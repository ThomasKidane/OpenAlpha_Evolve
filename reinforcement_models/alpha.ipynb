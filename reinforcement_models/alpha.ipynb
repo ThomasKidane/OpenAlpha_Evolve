{
 "cells": [
  {
   "cell_type": "code",
   "execution_count": 3,
   "id": "6b2e1324",
   "metadata": {},
   "outputs": [
    {
     "name": "stdout",
     "output_type": "stream",
     "text": [
      "Added /Users/thomaskidane/Documents/Projects/openevovle/OpenAlpha_Evolve/reinforcement_models/count-graph-homs to sys.path\n"
     ]
    }
   ],
   "source": [
    "import sys\n",
    "import os\n",
    "\n",
    "# Get the current directory of your notebook (or script)\n",
    "# Assumes you are running the notebook from within the OpenAlpha_Evolve directory\n",
    "notebook_dir = os.getcwd()\n",
    "\n",
    "# Construct the path to the count-graph-homs directory\n",
    "# It's a sibling directory to where you are running the notebook/script\n",
    "count_graph_homs_path = os.path.join(notebook_dir, 'count-graph-homs')\n",
    "\n",
    "# Add this path to the Python search path\n",
    "if count_graph_homs_path not in sys.path:\n",
    "    sys.path.append(count_graph_homs_path)\n",
    "\n",
    "print(f\"Added {count_graph_homs_path} to sys.path\")\n"
   ]
  },
  {
   "cell_type": "code",
   "execution_count": 9,
   "id": "08327008",
   "metadata": {},
   "outputs": [
    {
     "ename": "ModuleNotFoundError",
     "evalue": "No module named 'standard_hom_count'",
     "output_type": "error",
     "traceback": [
      "\u001b[0;31m---------------------------------------------------------------------------\u001b[0m",
      "\u001b[0;31mModuleNotFoundError\u001b[0m                       Traceback (most recent call last)",
      "Cell \u001b[0;32mIn[9], line 1\u001b[0m\n\u001b[0;32m----> 1\u001b[0m \u001b[38;5;28;01mfrom\u001b[39;00m \u001b[38;5;21;01mstandard_hom_count\u001b[39;00m \u001b[38;5;28;01mimport\u001b[39;00m GraphHomomorphismCounter\n",
      "\u001b[0;31mModuleNotFoundError\u001b[0m: No module named 'standard_hom_count'"
     ]
    }
   ],
   "source": [
    "from standard_hom_count import GraphHomomorphismCounter\n"
   ]
  },
  {
   "cell_type": "code",
   "execution_count": null,
   "id": "c68caf7a",
   "metadata": {},
   "outputs": [],
   "source": []
  },
  {
   "cell_type": "code",
   "execution_count": 1,
   "id": "80ce76e9-1963-40b6-9795-ea15136ceba0",
   "metadata": {},
   "outputs": [
    {
     "ename": "ModuleNotFoundError",
     "evalue": "No module named 'standard_hom_count'",
     "output_type": "error",
     "traceback": [
      "\u001b[31m---------------------------------------------------------------------------\u001b[39m",
      "\u001b[31mModuleNotFoundError\u001b[39m                       Traceback (most recent call last)",
      "\u001b[36mCell\u001b[39m\u001b[36m \u001b[39m\u001b[32mIn[1]\u001b[39m\u001b[32m, line 2\u001b[39m\n\u001b[32m      1\u001b[39m \u001b[38;5;28;01mfrom\u001b[39;00m\u001b[38;5;250m \u001b[39m\u001b[34;01msage\u001b[39;00m\u001b[34;01m.\u001b[39;00m\u001b[34;01mall\u001b[39;00m\u001b[38;5;250m \u001b[39m\u001b[38;5;28;01mimport\u001b[39;00m *\n\u001b[32m----> \u001b[39m\u001b[32m2\u001b[39m \u001b[38;5;28;01mfrom\u001b[39;00m\u001b[38;5;250m \u001b[39m\u001b[34;01mstandard_hom_count\u001b[39;00m\u001b[38;5;250m \u001b[39m\u001b[38;5;28;01mimport\u001b[39;00m GraphHomomorphismCounter \u001b[38;5;66;03m# Assuming standard_hom_count.py is in the same directory or your Python path\u001b[39;00m\n\u001b[32m      4\u001b[39m \u001b[38;5;66;03m# Define the fixed bipartite graph H (e.g., Complete Bipartite K_{2,3})\u001b[39;00m\n\u001b[32m      5\u001b[39m H = graphs.CompleteBipartiteGraph(\u001b[32m2\u001b[39m, \u001b[32m3\u001b[39m)\n",
      "\u001b[31mModuleNotFoundError\u001b[39m: No module named 'standard_hom_count'"
     ]
    }
   ],
   "source": [
    "from sage.all import *\n",
    "from standard_hom_count import GraphHomomorphismCounter # Assuming standard_hom_count.py is in the same directory or your Python path\n",
    "\n",
    "# Define the fixed bipartite graph H (e.g., Complete Bipartite K_{2,3})\n",
    "H = graphs.CompleteBipartiteGraph(2, 3)\n",
    "print(f\"Fixed bipartite graph H: {H.graph6_string()}\") # Print graph representation\n",
    "\n",
    "# Initialize a random graph G (e.g., a random graph with 5 vertices and edge probability 0.4)\n",
    "num_vertices_G = 5\n",
    "edge_probability_G = 0.4\n",
    "G = graphs.random_gnp(num_vertices_G, edge_probability_G)\n",
    "print(f\"Initial random graph G: {G.graph6_string()}\") # Print graph representation\n",
    "\n",
    "def calculate_homomorphism_density(H, G):\n",
    "    \"\"\"Calculates the homomorphism density from graph H to graph G.\"\"\"\n",
    "    if len(G.vertices()) == 0:\n",
    "        return 0.0 # Density is 0 if the target graph has no vertices\n",
    "\n",
    "    counter = GraphHomomorphismCounter(H, G)\n",
    "    num_homomorphisms = counter.count_homomorphisms()\n",
    "\n",
    "    # The normalization factor is |V(G)| raised to the power of |V(H)|\n",
    "    normalization_factor = len(G.vertices())**len(H.vertices())\n",
    "    \n",
    "\n",
    "    if normalization_factor == 0:\n",
    "        return float('inf') # Avoid division by zero if H has no vertices (shouldn't happen with K_{2,3})\n",
    "\n",
    "    density = num_homomorphisms / normalization_factor\n",
    "    return density\n",
    "\n",
    "import random\n",
    "\n",
    "def apply_random_edge_action(G):\n",
    "    \"\"\"Applies a random edge addition or removal action to graph G.\"\"\"\n",
    "    vertices = list(G.vertices())\n",
    "    if len(vertices) < 2:\n",
    "        # Cannot add/remove edge with less than 2 vertices\n",
    "        return G.copy() # Return a copy to avoid modifying in place if action is impossible\n",
    "\n",
    "    action_type = random.choice(['add', 'remove'])\n",
    "    G_new = G.copy() # Work on a copy\n",
    "\n",
    "    if action_type == 'add':\n",
    "        # Try adding a random edge between two distinct vertices\n",
    "        u, v = random.sample(vertices, 2)\n",
    "        if not G_new.has_edge(u, v):\n",
    "            G_new.add_edge(u, v)\n",
    "            # print(f\"Action: Added edge ({u}, {v})\")\n",
    "        # else:\n",
    "            # print(f\"Action: Tried to add edge ({u}, {v}), but it already exists.\")\n",
    "    elif action_type == 'remove':\n",
    "        # Try removing a random edge\n",
    "        edges = list(G_new.edges())\n",
    "        if edges:\n",
    "            u, v, label = random.choice(edges)\n",
    "            G_new.delete_edge(u, v)\n",
    "            # print(f\"Action: Removed edge ({u}, {v})\")\n",
    "        # else:\n",
    "            # print(f\"Action: Tried to remove an edge, but the graph has none.\")\n",
    "\n",
    "    return G_new\n",
    "\n",
    "# Calculate initial density and reward\n",
    "initial_density = calculate_homomorphism_density(H, G)\n",
    "initial_reward = -initial_density\n",
    "print(f\"Initial homomorphism density (H->G): {initial_density}\")\n",
    "print(f\"Initial reward: {initial_reward}\")\n",
    "\n",
    "# --- Simulation Loop ---\n",
    "current_G = G.copy()\n",
    "num_simulation_steps = 10\n",
    "best_G = current_G.copy()\n",
    "best_reward = -calculate_homomorphism_density(H, current_G)\n",
    "\n",
    "print(\"\\nStarting simulation...\")\n",
    "for step in range(num_simulation_steps):\n",
    "    # Apply a random action\n",
    "    next_G = apply_random_edge_action(current_G)\n",
    "\n",
    "    # Calculate reward for the new graph\n",
    "    density = calculate_homomorphism_density(H, next_G)\n",
    "    reward = -density\n",
    "\n",
    "    print(f\"\\nStep {step + 1}:\")\n",
    "    # print(f\"  Graph G after action: {next_G.graph6_string()}\") # Optional: print graph string\n",
    "    print(f\"  Homomorphism density (H->G): {density}\")\n",
    "    print(f\"  Reward: {reward}\")\n",
    "\n",
    "    # Update best graph if current reward is better\n",
    "    if reward > best_reward:\n",
    "        best_reward = reward\n",
    "        best_G = next_G.copy()\n",
    "        print(\"  New best graph found!\")\n",
    "\n",
    "    # Update current graph for the next step\n",
    "    current_G = next_G.copy()\n",
    "\n",
    "print(\"\\nSimulation finished.\")\n",
    "print(f\"Best graph found (reward: {best_reward}): {best_G.graph6_string()}\")\n",
    "# You can plot the best graph found:\n",
    "# show(best_G.plot())"
   ]
  }
 ],
 "metadata": {
  "kernelspec": {
   "display_name": "base",
   "language": "python",
   "name": "python3"
  },
  "language_info": {
   "codemirror_mode": {
    "name": "ipython",
    "version": 3
   },
   "file_extension": ".py",
   "mimetype": "text/x-python",
   "name": "python",
   "nbconvert_exporter": "python",
   "pygments_lexer": "ipython3",
   "version": "3.12.4"
  }
 },
 "nbformat": 4,
 "nbformat_minor": 5
}
